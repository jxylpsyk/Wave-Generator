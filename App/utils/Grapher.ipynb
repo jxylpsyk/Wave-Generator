{
 "cells": [
  {
   "cell_type": "code",
   "execution_count": 2,
   "metadata": {},
   "outputs": [],
   "source": [
    "import matplotlib.pyplot as plt\n",
    "import numpy as np"
   ]
  },
  {
   "cell_type": "code",
   "execution_count": 3,
   "metadata": {},
   "outputs": [],
   "source": [
    "import random\n",
    "test_arr = [random.random() * 2 - 1 for _ in range(44100)]"
   ]
  },
  {
   "cell_type": "code",
   "execution_count": null,
   "metadata": {},
   "outputs": [],
   "source": [
    "test_arr = np.linspace(0, 2, 44100*2)\n",
    "freq = 100\n",
    "x = 44100/freq\n",
    "\n",
    "if x % 1 != 0:\n",
    "    x = round(x + 0.5)\n",
    "test_arr = test_arr[:int(x)]\n",
    "test_arr = np.sin(test_arr * freq * 2 * np.pi )\n",
    "\n",
    "\n",
    "plt.style.use('seaborn-dark')\n",
    "plt.plot(test_arr)\n",
    "plt.savefig('foo.png')\n"
   ]
  },
  {
   "cell_type": "code",
   "execution_count": null,
   "metadata": {},
   "outputs": [],
   "source": [
    "import json\n",
    "\n",
    "with open('Json-lib/user_data.json', 'r+') as file:\n",
    "    file_data = json.load(file)\n",
    "\n",
    "    file_data['user-waves'].update({'hello' : 5, 'jiojio' : 5})\n",
    "    file.seek(0)\n",
    "\n",
    "    json.dump(file_data, file, indent=4)"
   ]
  }
 ],
 "metadata": {
  "interpreter": {
   "hash": "aee8b7b246df8f9039afb4144a1f6fd8d2ca17a180786b69acc140d282b71a49"
  },
  "kernelspec": {
   "display_name": "Python 3.9.6 64-bit",
   "language": "python",
   "name": "python3"
  },
  "language_info": {
   "codemirror_mode": {
    "name": "ipython",
    "version": 3
   },
   "file_extension": ".py",
   "mimetype": "text/x-python",
   "name": "python",
   "nbconvert_exporter": "python",
   "pygments_lexer": "ipython3",
   "version": "3.9.6"
  },
  "orig_nbformat": 4
 },
 "nbformat": 4,
 "nbformat_minor": 2
}
